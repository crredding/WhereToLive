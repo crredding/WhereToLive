{
 "cells": [
  {
   "cell_type": "markdown",
   "id": "63cb9eef-c643-464d-974a-17fbac823e4b",
   "metadata": {},
   "source": [
    "# Housing Data"
   ]
  },
  {
   "cell_type": "code",
   "execution_count": 222,
   "id": "6bb8d701-65f5-4aac-b9e8-404c3e999509",
   "metadata": {},
   "outputs": [],
   "source": [
    "import pandas as pd\n",
    "import numpy as np\n",
    "import folium\n",
    "from folium.plugins import FastMarkerCluster, MarkerCluster\n",
    "\n",
    "pd.set_option('display.max_columns', 150)"
   ]
  },
  {
   "cell_type": "markdown",
   "id": "5f3655cb-5799-4f1d-83b4-8103288bc8b7",
   "metadata": {},
   "source": [
    "Zipcode boundary datasets\n",
    "https://github.com/OpenDataDE/State-zip-code-GeoJSON"
   ]
  },
  {
   "cell_type": "code",
   "execution_count": 400,
   "id": "92bee9c1-79a5-440c-9c12-b3b4a5a8d34c",
   "metadata": {},
   "outputs": [],
   "source": [
    "import_data = False"
   ]
  },
  {
   "cell_type": "markdown",
   "id": "f149277b-e3f5-4124-87a6-679ffb6a01ed",
   "metadata": {},
   "source": [
    "# Creating Map"
   ]
  },
  {
   "cell_type": "code",
   "execution_count": 446,
   "id": "544bff58-fe80-47b0-b446-d6b1d79a3b75",
   "metadata": {},
   "outputs": [],
   "source": [
    "cost_cutoff = True\n",
    "max_price = 1100000\n",
    "current_data_data_str = '2022-03-31'\n",
    "target_state = \"VA\"\n",
    "target_state_name = \"virginia\"\n",
    "state_geojson_path = target_state.lower() + '_' + target_state_name.lower() + '_zip_codes_geo.min.json'\n",
    "\n",
    "m = folium.Map()"
   ]
  },
  {
   "cell_type": "markdown",
   "id": "4ad386bb-4484-4c9f-9f99-df874c71fcb0",
   "metadata": {},
   "source": [
    "## Walkability\n",
    "* Rural == 1.2\n",
    "* Suburban == 8.3\n",
    "* Historic Main Street = 13.7\n",
    "* City Center == 17.5"
   ]
  },
  {
   "cell_type": "code",
   "execution_count": 447,
   "id": "d5721a19-5ba8-4978-ad82-a53990ae41bb",
   "metadata": {},
   "outputs": [],
   "source": [
    "if import_data:\n",
    "    tract_to_zip = pd.read_excel('DataSets/TRACT_ZIP_122021.xlsx')\n",
    "    walk_df = pd.read_csv('DataSets/EPA_SmartLocationDatabase_V3_Jan_2021_Final.csv')\n",
    "    walk_df['Tract'] = walk_df.apply(lambda row: create_tract_from_codes(row), axis=1)"
   ]
  },
  {
   "cell_type": "code",
   "execution_count": 448,
   "id": "d01f1a0c-ea82-4583-b353-5d8f8288fede",
   "metadata": {},
   "outputs": [],
   "source": [
    "def create_tract_from_codes(row):\n",
    "    state = str(row['STATEFP'])\n",
    "    county = str(row['COUNTYFP'])\n",
    "    tract = str(row['TRACTCE'])\n",
    "    while len(state) < 2:\n",
    "        state = '0' + state\n",
    "    while len(county) < 3:\n",
    "        county = '0' + county\n",
    "    while len(tract) < 6:\n",
    "        tract = '0' + tract\n",
    "    combined = state + county + tract\n",
    "    return int(combined)"
   ]
  },
  {
   "cell_type": "code",
   "execution_count": 449,
   "id": "0f594580-82c6-43b5-9e44-0bb6bb9c7dc9",
   "metadata": {},
   "outputs": [],
   "source": [
    "walk_df_with_zip = walk_df.merge(tract_to_zip, how='left', left_on='Tract', right_on='tract')"
   ]
  },
  {
   "cell_type": "code",
   "execution_count": 450,
   "id": "c064a3ae-d1c6-4b69-a188-2f4e733b0e6f",
   "metadata": {},
   "outputs": [],
   "source": [
    "walk_df_agg_by_zip = pd.DataFrame(walk_df_with_zip.groupby('zip').agg({'NatWalkInd': [np.mean, np.max, np.min, np.std]}))\n",
    "walk_df_agg_by_zip = walk_df_agg_by_zip['NatWalkInd']\n",
    "walk_df_agg_by_zip['1stdbelow'] = walk_df_agg_by_zip['mean'] - walk_df_agg_by_zip['std']\n",
    "walk_df_agg_by_zip['1stdabove'] = walk_df_agg_by_zip['mean'] + walk_df_agg_by_zip['std']\n",
    "walk_df_agg_by_zip['zip'] = walk_df_agg_by_zip.index.astype(int).astype(str)\n",
    "walk_df_agg_by_zip = walk_df_agg_by_zip.reset_index(drop=True)"
   ]
  },
  {
   "cell_type": "code",
   "execution_count": 456,
   "id": "c2e6599b-e7e7-4902-bfa5-13f69c2a8f0a",
   "metadata": {},
   "outputs": [
    {
     "data": {
      "text/plain": [
       "Index(['mean', 'amax', 'amin', 'std', '1stdbelow', '1stdabove', 'zip'], dtype='object')"
      ]
     },
     "execution_count": 456,
     "metadata": {},
     "output_type": "execute_result"
    }
   ],
   "source": [
    "walk_df_agg_by_zip.columns"
   ]
  },
  {
   "cell_type": "code",
   "execution_count": 457,
   "id": "5faae881-b740-4fe7-876c-ddcd6515752e",
   "metadata": {},
   "outputs": [
    {
     "data": {
      "text/plain": [
       "<folium.features.Choropleth at 0x265f8c8a088>"
      ]
     },
     "execution_count": 457,
     "metadata": {},
     "output_type": "execute_result"
    }
   ],
   "source": [
    "folium.Choropleth(geo_data='DataSets/geo_json/' + state_geojson_path,\n",
    "                  name=\"Walkability\",\n",
    "                  data=walk_df_agg_by_zip,\n",
    "                  columns=['zip', 'amax'],\n",
    "                  key_on='properties.ZCTA5CE10',\n",
    "                  fill_color='Reds', \n",
    "                  fill_opacity=0.7, \n",
    "                  line_opacity=0.3,\n",
    "                  nan_fill_color=\"Gray\",\n",
    "#                   nan_fill_opacity=1,\n",
    "                  legend_name='Walkability').add_to(m)"
   ]
  },
  {
   "cell_type": "markdown",
   "id": "01ebd701-3968-4136-be48-7cdbecdfafd7",
   "metadata": {},
   "source": [
    "## Zillow House Value Index"
   ]
  },
  {
   "cell_type": "code",
   "execution_count": 458,
   "id": "a1788ebf-9579-4536-9e26-19a3aba0d922",
   "metadata": {},
   "outputs": [],
   "source": [
    "if import_data:\n",
    "    #all sfh by zip\n",
    "    # zillow_sfh_zip = pd.read_csv('DataSets/Zillow/Zip_zhvi_uc_sfr_tier_0.33_0.67_sm_sa_month.csv')\n",
    "\n",
    "    #3br by zip\n",
    "    zillow_sfh_zip = pd.read_csv('DataSets\\Zillow\\Zip_zhvi_bdrmcnt_3_uc_sfrcondo_tier_0.33_0.67_sm_sa_month.csv')\n",
    "\n",
    "    zip_to_lat = pd.read_csv('DataSets/ziptolat.csv')\n",
    "    zillow_sfh_zip = zillow_sfh_zip.merge(zip_to_lat, how='inner', left_on='RegionName', right_on='ZIP')\n",
    "    zillow_sfh_zip['ZIP_str'] = zillow_sfh_zip['ZIP'].astype(str)\n",
    "\n",
    "    zillow_sfh_zip[\"ZHVI\"] = zillow_sfh_zip[current_data_data_str]\n",
    "    sfh_filtered = zillow_sfh_zip[zillow_sfh_zip[\"State\"] == target_state.upper()][['ZIP', 'ZHVI', 'LAT', 'LNG', 'Metro', 'City', 'ZIP_str']]\n",
    "    if cost_cutoff:\n",
    "        sfh_filtered = sfh_filtered[sfh_filtered['ZHVI'] <= max_price]\n",
    "    sfh_filtered['ZHVI_log'] = np.log(sfh_filtered['ZHVI'])"
   ]
  },
  {
   "cell_type": "code",
   "execution_count": null,
   "id": "48133d93-c91b-43d0-a4b9-c49d46a7e674",
   "metadata": {},
   "outputs": [],
   "source": [
    "folium.Choropleth(geo_data='DataSets/geo_json/' + state_geojson_path,\n",
    "                  name=\"ZHVI\",\n",
    "                  data=sfh_filtered,\n",
    "                  columns=['ZIP_str', 'ZHVI_log'],\n",
    "                  key_on='properties.ZCTA5CE10',\n",
    "                  fill_color='Blues', \n",
    "                  fill_opacity=0.7, \n",
    "                  line_opacity=0.3,\n",
    "                  nan_fill_color=\"Gray\",\n",
    "#                   nan_fill_opacity=1,\n",
    "                  legend_name='ZHVI').add_to(m)"
   ]
  },
  {
   "cell_type": "markdown",
   "id": "33d35072-ac30-4978-8a4a-0cdcf3075402",
   "metadata": {},
   "source": [
    "## Adding markers"
   ]
  },
  {
   "cell_type": "code",
   "execution_count": null,
   "id": "d521e646-0f62-4602-ab36-b87dd6833d9d",
   "metadata": {},
   "outputs": [],
   "source": [
    "create_markers = False\n",
    "\n",
    "#Maybe use FastMarkerCluster?\n",
    "if create_markers:\n",
    "    marker_cluster = MarkerCluster().add_to(m)\n",
    "\n",
    "    for i in range(sfh_filtered.shape[0]):\n",
    "        location = [sfh_filtered['LAT'].iloc[i],sfh_filtered['LNG'].iloc[i]]\n",
    "        tooltip = \"Zipcode:{}<br> Location:{}<br> Click for more\".format(str(sfh_filtered[\"ZIP\"].iloc[i]), str(sfh_filtered['Metro'].iloc[i]) + ', ' + str(sfh_filtered['City'].iloc[i]))\n",
    "\n",
    "        folium.Marker(location, # adding more details to the popup screen using HTML\n",
    "                      popup=\"\"\"\n",
    "                      <i>ZHVI: </i> <br> <b>${}</b> <br>\n",
    "                      \"\"\".format(\n",
    "                        \"{:,}\".format(sfh_filtered['ZHVI'].iloc[i])\n",
    "                                ), \n",
    "                      tooltip=tooltip).add_to(marker_cluster)"
   ]
  },
  {
   "cell_type": "markdown",
   "id": "0ecfadfc-69ec-4308-b4f9-c41ff0be2869",
   "metadata": {},
   "source": [
    "# Display map"
   ]
  },
  {
   "cell_type": "code",
   "execution_count": null,
   "id": "c8d37ac4-b54f-40a4-985b-6c9043138585",
   "metadata": {},
   "outputs": [],
   "source": [
    "folium.LayerControl().add_to(m)\n",
    "m"
   ]
  },
  {
   "cell_type": "code",
   "execution_count": null,
   "id": "a7a63c25-0101-4c2e-85ea-119376479ab5",
   "metadata": {},
   "outputs": [],
   "source": []
  }
 ],
 "metadata": {
  "kernelspec": {
   "display_name": "Python 3",
   "language": "python",
   "name": "python3"
  },
  "language_info": {
   "codemirror_mode": {
    "name": "ipython",
    "version": 3
   },
   "file_extension": ".py",
   "mimetype": "text/x-python",
   "name": "python",
   "nbconvert_exporter": "python",
   "pygments_lexer": "ipython3",
   "version": "3.7.10"
  }
 },
 "nbformat": 4,
 "nbformat_minor": 5
}
