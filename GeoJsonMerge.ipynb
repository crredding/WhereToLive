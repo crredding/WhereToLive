{
 "cells": [
  {
   "cell_type": "code",
   "execution_count": 6,
   "id": "87695228-cacd-47f6-8fa6-27f311552121",
   "metadata": {},
   "outputs": [
    {
     "name": "stdout",
     "output_type": "stream",
     "text": [
      "1\n",
      "2\n",
      "3\n",
      "4\n",
      "5\n",
      "6\n",
      "7\n",
      "8\n",
      "9\n",
      "10\n",
      "11\n",
      "12\n",
      "13\n",
      "14\n",
      "15\n",
      "16\n",
      "17\n",
      "18\n",
      "19\n",
      "20\n",
      "21\n",
      "22\n",
      "23\n",
      "24\n",
      "25\n",
      "26\n",
      "27\n",
      "28\n",
      "29\n",
      "30\n",
      "31\n",
      "32\n",
      "33\n",
      "34\n",
      "35\n",
      "36\n",
      "37\n",
      "38\n",
      "39\n",
      "40\n",
      "41\n",
      "42\n",
      "43\n",
      "44\n",
      "45\n",
      "46\n",
      "47\n",
      "48\n",
      "49\n",
      "50\n",
      "51\n"
     ]
    }
   ],
   "source": [
    "import os\n",
    "import glob\n",
    "import geojson\n",
    "\n",
    "json_dir_name = 'DataSets/geo_json/'\n",
    "json_pattern = os.path.join(json_dir_name,'*.min.json')\n",
    "file_list = glob.glob(json_pattern)\n",
    "\n",
    "collection = []\n",
    "i = 0\n",
    "for file in file_list:\n",
    "    i += 1\n",
    "    with open(file) as f:\n",
    "        layer = geojson.load(f)\n",
    "        collection.append(layer)\n",
    "    print(i)\n",
    "\n",
    "geo_collection = geojson.GeometryCollection(collection)\n",
    "\n",
    "with open('DataSets/geo_json/all_zips.geojson', 'w') as f:\n",
    "    geojson.dump(geo_collection, f)"
   ]
  },
  {
   "cell_type": "code",
   "execution_count": null,
   "id": "92977a1c-0963-4de8-8b33-732d94314632",
   "metadata": {},
   "outputs": [],
   "source": []
  }
 ],
 "metadata": {
  "kernelspec": {
   "display_name": "Python 3",
   "language": "python",
   "name": "python3"
  },
  "language_info": {
   "codemirror_mode": {
    "name": "ipython",
    "version": 3
   },
   "file_extension": ".py",
   "mimetype": "text/x-python",
   "name": "python",
   "nbconvert_exporter": "python",
   "pygments_lexer": "ipython3",
   "version": "3.7.10"
  }
 },
 "nbformat": 4,
 "nbformat_minor": 5
}
